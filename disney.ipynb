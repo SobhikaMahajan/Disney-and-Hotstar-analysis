{
  "nbformat": 4,
  "nbformat_minor": 0,
  "metadata": {
    "colab": {
      "provenance": []
    },
    "kernelspec": {
      "name": "python3",
      "display_name": "Python 3"
    },
    "language_info": {
      "name": "python"
    }
  },
  "cells": [
    {
      "cell_type": "markdown",
      "source": [
        "**Disney and hotstar data analysis**"
      ],
      "metadata": {
        "id": "ia4127Y9ZYFE"
      }
    },
    {
      "cell_type": "markdown",
      "source": [
        "![download.png](data:image/png;base64,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)"
      ],
      "metadata": {
        "id": "IKcQDZaNanXH"
      }
    },
    {
      "cell_type": "markdown",
      "source": [
        "Reading data "
      ],
      "metadata": {
        "id": "a7E2TYr9Z4N-"
      }
    },
    {
      "cell_type": "code",
      "execution_count": 1,
      "metadata": {
        "id": "2E87WJaSXSIU"
      },
      "outputs": [],
      "source": [
        "import pandas as pd\n",
        "import numpy as np\n",
        "import seaborn as sns\n",
        "import matplotlib.pyplot as plt"
      ]
    },
    {
      "cell_type": "code",
      "source": [
        "df=pd.read_csv('/content/hotstar.csv')"
      ],
      "metadata": {
        "id": "5mSZbgdgXi8F"
      },
      "execution_count": 2,
      "outputs": []
    },
    {
      "cell_type": "code",
      "source": [
        "df.head(5)"
      ],
      "metadata": {
        "colab": {
          "base_uri": "https://localhost:8080/",
          "height": 597
        },
        "id": "FqMGPVsfYGou",
        "outputId": "cdf40732-ab6a-4af8-8499-3067ca26fb68"
      },
      "execution_count": 4,
      "outputs": [
        {
          "output_type": "execute_result",
          "data": {
            "text/plain": [
              "   hotstar_id                                           title  \\\n",
              "0  1835064133                                        The Ring   \n",
              "1  1260015636  Jesus: Rise To Power And Birth Of Christianity   \n",
              "2  1000070418                                     Yama Muduru   \n",
              "3  1770000804                           X-Men: The Last Stand   \n",
              "4  1770005017             Mangalyaan: India's Mission To Mars   \n",
              "\n",
              "                                         description        genre    year  \\\n",
              "0  Mutually divorced Aman emotionally struggles t...        Drama  2021.0   \n",
              "1  A journey across the historic landscapes of th...  Documentary  2019.0   \n",
              "2  Krishna Kumar is popular in college for his mu...        Drama  2009.0   \n",
              "3  When humans find a cure for mutation, Professo...    Superhero  2006.0   \n",
              "4  In this special, watch the 650 million km jour...  Documentary  2017.0   \n",
              "\n",
              "  age_rating  running_time  seasons  episodes   type  \n",
              "0    U/A 13+          17.0      NaN       NaN  movie  \n",
              "1    U/A 13+          42.0      NaN       NaN  movie  \n",
              "2    U/A 13+         129.0      NaN       NaN  movie  \n",
              "3    U/A 13+         103.0      NaN       NaN  movie  \n",
              "4          U          44.0      NaN       NaN  movie  "
            ],
            "text/html": [
              "\n",
              "  <div id=\"df-5b981a7a-27f4-45f8-8015-7ec1c4889dbc\">\n",
              "    <div class=\"colab-df-container\">\n",
              "      <div>\n",
              "<style scoped>\n",
              "    .dataframe tbody tr th:only-of-type {\n",
              "        vertical-align: middle;\n",
              "    }\n",
              "\n",
              "    .dataframe tbody tr th {\n",
              "        vertical-align: top;\n",
              "    }\n",
              "\n",
              "    .dataframe thead th {\n",
              "        text-align: right;\n",
              "    }\n",
              "</style>\n",
              "<table border=\"1\" class=\"dataframe\">\n",
              "  <thead>\n",
              "    <tr style=\"text-align: right;\">\n",
              "      <th></th>\n",
              "      <th>hotstar_id</th>\n",
              "      <th>title</th>\n",
              "      <th>description</th>\n",
              "      <th>genre</th>\n",
              "      <th>year</th>\n",
              "      <th>age_rating</th>\n",
              "      <th>running_time</th>\n",
              "      <th>seasons</th>\n",
              "      <th>episodes</th>\n",
              "      <th>type</th>\n",
              "    </tr>\n",
              "  </thead>\n",
              "  <tbody>\n",
              "    <tr>\n",
              "      <th>0</th>\n",
              "      <td>1835064133</td>\n",
              "      <td>The Ring</td>\n",
              "      <td>Mutually divorced Aman emotionally struggles t...</td>\n",
              "      <td>Drama</td>\n",
              "      <td>2021.0</td>\n",
              "      <td>U/A 13+</td>\n",
              "      <td>17.0</td>\n",
              "      <td>NaN</td>\n",
              "      <td>NaN</td>\n",
              "      <td>movie</td>\n",
              "    </tr>\n",
              "    <tr>\n",
              "      <th>1</th>\n",
              "      <td>1260015636</td>\n",
              "      <td>Jesus: Rise To Power And Birth Of Christianity</td>\n",
              "      <td>A journey across the historic landscapes of th...</td>\n",
              "      <td>Documentary</td>\n",
              "      <td>2019.0</td>\n",
              "      <td>U/A 13+</td>\n",
              "      <td>42.0</td>\n",
              "      <td>NaN</td>\n",
              "      <td>NaN</td>\n",
              "      <td>movie</td>\n",
              "    </tr>\n",
              "    <tr>\n",
              "      <th>2</th>\n",
              "      <td>1000070418</td>\n",
              "      <td>Yama Muduru</td>\n",
              "      <td>Krishna Kumar is popular in college for his mu...</td>\n",
              "      <td>Drama</td>\n",
              "      <td>2009.0</td>\n",
              "      <td>U/A 13+</td>\n",
              "      <td>129.0</td>\n",
              "      <td>NaN</td>\n",
              "      <td>NaN</td>\n",
              "      <td>movie</td>\n",
              "    </tr>\n",
              "    <tr>\n",
              "      <th>3</th>\n",
              "      <td>1770000804</td>\n",
              "      <td>X-Men: The Last Stand</td>\n",
              "      <td>When humans find a cure for mutation, Professo...</td>\n",
              "      <td>Superhero</td>\n",
              "      <td>2006.0</td>\n",
              "      <td>U/A 13+</td>\n",
              "      <td>103.0</td>\n",
              "      <td>NaN</td>\n",
              "      <td>NaN</td>\n",
              "      <td>movie</td>\n",
              "    </tr>\n",
              "    <tr>\n",
              "      <th>4</th>\n",
              "      <td>1770005017</td>\n",
              "      <td>Mangalyaan: India's Mission To Mars</td>\n",
              "      <td>In this special, watch the 650 million km jour...</td>\n",
              "      <td>Documentary</td>\n",
              "      <td>2017.0</td>\n",
              "      <td>U</td>\n",
              "      <td>44.0</td>\n",
              "      <td>NaN</td>\n",
              "      <td>NaN</td>\n",
              "      <td>movie</td>\n",
              "    </tr>\n",
              "  </tbody>\n",
              "</table>\n",
              "</div>\n",
              "      <button class=\"colab-df-convert\" onclick=\"convertToInteractive('df-5b981a7a-27f4-45f8-8015-7ec1c4889dbc')\"\n",
              "              title=\"Convert this dataframe to an interactive table.\"\n",
              "              style=\"display:none;\">\n",
              "        \n",
              "  <svg xmlns=\"http://www.w3.org/2000/svg\" height=\"24px\"viewBox=\"0 0 24 24\"\n",
              "       width=\"24px\">\n",
              "    <path d=\"M0 0h24v24H0V0z\" fill=\"none\"/>\n",
              "    <path d=\"M18.56 5.44l.94 2.06.94-2.06 2.06-.94-2.06-.94-.94-2.06-.94 2.06-2.06.94zm-11 1L8.5 8.5l.94-2.06 2.06-.94-2.06-.94L8.5 2.5l-.94 2.06-2.06.94zm10 10l.94 2.06.94-2.06 2.06-.94-2.06-.94-.94-2.06-.94 2.06-2.06.94z\"/><path d=\"M17.41 7.96l-1.37-1.37c-.4-.4-.92-.59-1.43-.59-.52 0-1.04.2-1.43.59L10.3 9.45l-7.72 7.72c-.78.78-.78 2.05 0 2.83L4 21.41c.39.39.9.59 1.41.59.51 0 1.02-.2 1.41-.59l7.78-7.78 2.81-2.81c.8-.78.8-2.07 0-2.86zM5.41 20L4 18.59l7.72-7.72 1.47 1.35L5.41 20z\"/>\n",
              "  </svg>\n",
              "      </button>\n",
              "      \n",
              "  <style>\n",
              "    .colab-df-container {\n",
              "      display:flex;\n",
              "      flex-wrap:wrap;\n",
              "      gap: 12px;\n",
              "    }\n",
              "\n",
              "    .colab-df-convert {\n",
              "      background-color: #E8F0FE;\n",
              "      border: none;\n",
              "      border-radius: 50%;\n",
              "      cursor: pointer;\n",
              "      display: none;\n",
              "      fill: #1967D2;\n",
              "      height: 32px;\n",
              "      padding: 0 0 0 0;\n",
              "      width: 32px;\n",
              "    }\n",
              "\n",
              "    .colab-df-convert:hover {\n",
              "      background-color: #E2EBFA;\n",
              "      box-shadow: 0px 1px 2px rgba(60, 64, 67, 0.3), 0px 1px 3px 1px rgba(60, 64, 67, 0.15);\n",
              "      fill: #174EA6;\n",
              "    }\n",
              "\n",
              "    [theme=dark] .colab-df-convert {\n",
              "      background-color: #3B4455;\n",
              "      fill: #D2E3FC;\n",
              "    }\n",
              "\n",
              "    [theme=dark] .colab-df-convert:hover {\n",
              "      background-color: #434B5C;\n",
              "      box-shadow: 0px 1px 3px 1px rgba(0, 0, 0, 0.15);\n",
              "      filter: drop-shadow(0px 1px 2px rgba(0, 0, 0, 0.3));\n",
              "      fill: #FFFFFF;\n",
              "    }\n",
              "  </style>\n",
              "\n",
              "      <script>\n",
              "        const buttonEl =\n",
              "          document.querySelector('#df-5b981a7a-27f4-45f8-8015-7ec1c4889dbc button.colab-df-convert');\n",
              "        buttonEl.style.display =\n",
              "          google.colab.kernel.accessAllowed ? 'block' : 'none';\n",
              "\n",
              "        async function convertToInteractive(key) {\n",
              "          const element = document.querySelector('#df-5b981a7a-27f4-45f8-8015-7ec1c4889dbc');\n",
              "          const dataTable =\n",
              "            await google.colab.kernel.invokeFunction('convertToInteractive',\n",
              "                                                     [key], {});\n",
              "          if (!dataTable) return;\n",
              "\n",
              "          const docLinkHtml = 'Like what you see? Visit the ' +\n",
              "            '<a target=\"_blank\" href=https://colab.research.google.com/notebooks/data_table.ipynb>data table notebook</a>'\n",
              "            + ' to learn more about interactive tables.';\n",
              "          element.innerHTML = '';\n",
              "          dataTable['output_type'] = 'display_data';\n",
              "          await google.colab.output.renderOutput(dataTable, element);\n",
              "          const docLink = document.createElement('div');\n",
              "          docLink.innerHTML = docLinkHtml;\n",
              "          element.appendChild(docLink);\n",
              "        }\n",
              "      </script>\n",
              "    </div>\n",
              "  </div>\n",
              "  "
            ]
          },
          "metadata": {},
          "execution_count": 4
        }
      ]
    },
    {
      "cell_type": "code",
      "source": [
        "df.info()"
      ],
      "metadata": {
        "colab": {
          "base_uri": "https://localhost:8080/"
        },
        "id": "HH9E8Y6zYIGd",
        "outputId": "c67b1152-87fd-4b0b-ae12-495661432e42"
      },
      "execution_count": 5,
      "outputs": [
        {
          "output_type": "stream",
          "name": "stdout",
          "text": [
            "<class 'pandas.core.frame.DataFrame'>\n",
            "RangeIndex: 7756 entries, 0 to 7755\n",
            "Data columns (total 10 columns):\n",
            " #   Column        Non-Null Count  Dtype  \n",
            "---  ------        --------------  -----  \n",
            " 0   hotstar_id    7756 non-null   int64  \n",
            " 1   title         7756 non-null   object \n",
            " 2   description   7755 non-null   object \n",
            " 3   genre         7755 non-null   object \n",
            " 4   year          7755 non-null   float64\n",
            " 5   age_rating    7755 non-null   object \n",
            " 6   running_time  4188 non-null   float64\n",
            " 7   seasons       3567 non-null   float64\n",
            " 8   episodes      3567 non-null   float64\n",
            " 9   type          7755 non-null   object \n",
            "dtypes: float64(4), int64(1), object(5)\n",
            "memory usage: 606.1+ KB\n"
          ]
        }
      ]
    },
    {
      "cell_type": "markdown",
      "source": [
        "We dont need index as hotstar id is already provided. So set hotstar_id as index"
      ],
      "metadata": {
        "id": "67b49vxjYyZG"
      }
    },
    {
      "cell_type": "code",
      "source": [
        "df.set_index('hotstar_id',inplace=True)"
      ],
      "metadata": {
        "id": "0sqJf-wfY9ne"
      },
      "execution_count": 7,
      "outputs": []
    },
    {
      "cell_type": "code",
      "source": [
        "df.head(5)"
      ],
      "metadata": {
        "colab": {
          "base_uri": "https://localhost:8080/",
          "height": 559
        },
        "id": "e1E5jzqPZHlw",
        "outputId": "beb4eb50-fca1-4a7a-cf3c-27b01850e6c5"
      },
      "execution_count": 8,
      "outputs": [
        {
          "output_type": "execute_result",
          "data": {
            "text/plain": [
              "                                                     title  \\\n",
              "hotstar_id                                                   \n",
              "1835064133                                        The Ring   \n",
              "1260015636  Jesus: Rise To Power And Birth Of Christianity   \n",
              "1000070418                                     Yama Muduru   \n",
              "1770000804                           X-Men: The Last Stand   \n",
              "1770005017             Mangalyaan: India's Mission To Mars   \n",
              "\n",
              "                                                  description        genre  \\\n",
              "hotstar_id                                                                   \n",
              "1835064133  Mutually divorced Aman emotionally struggles t...        Drama   \n",
              "1260015636  A journey across the historic landscapes of th...  Documentary   \n",
              "1000070418  Krishna Kumar is popular in college for his mu...        Drama   \n",
              "1770000804  When humans find a cure for mutation, Professo...    Superhero   \n",
              "1770005017  In this special, watch the 650 million km jour...  Documentary   \n",
              "\n",
              "              year age_rating  running_time  seasons  episodes   type  \n",
              "hotstar_id                                                             \n",
              "1835064133  2021.0    U/A 13+          17.0      NaN       NaN  movie  \n",
              "1260015636  2019.0    U/A 13+          42.0      NaN       NaN  movie  \n",
              "1000070418  2009.0    U/A 13+         129.0      NaN       NaN  movie  \n",
              "1770000804  2006.0    U/A 13+         103.0      NaN       NaN  movie  \n",
              "1770005017  2017.0          U          44.0      NaN       NaN  movie  "
            ],
            "text/html": [
              "\n",
              "  <div id=\"df-f6f64843-ef7f-4b8e-bf76-78ab1fa7cda0\">\n",
              "    <div class=\"colab-df-container\">\n",
              "      <div>\n",
              "<style scoped>\n",
              "    .dataframe tbody tr th:only-of-type {\n",
              "        vertical-align: middle;\n",
              "    }\n",
              "\n",
              "    .dataframe tbody tr th {\n",
              "        vertical-align: top;\n",
              "    }\n",
              "\n",
              "    .dataframe thead th {\n",
              "        text-align: right;\n",
              "    }\n",
              "</style>\n",
              "<table border=\"1\" class=\"dataframe\">\n",
              "  <thead>\n",
              "    <tr style=\"text-align: right;\">\n",
              "      <th></th>\n",
              "      <th>title</th>\n",
              "      <th>description</th>\n",
              "      <th>genre</th>\n",
              "      <th>year</th>\n",
              "      <th>age_rating</th>\n",
              "      <th>running_time</th>\n",
              "      <th>seasons</th>\n",
              "      <th>episodes</th>\n",
              "      <th>type</th>\n",
              "    </tr>\n",
              "    <tr>\n",
              "      <th>hotstar_id</th>\n",
              "      <th></th>\n",
              "      <th></th>\n",
              "      <th></th>\n",
              "      <th></th>\n",
              "      <th></th>\n",
              "      <th></th>\n",
              "      <th></th>\n",
              "      <th></th>\n",
              "      <th></th>\n",
              "    </tr>\n",
              "  </thead>\n",
              "  <tbody>\n",
              "    <tr>\n",
              "      <th>1835064133</th>\n",
              "      <td>The Ring</td>\n",
              "      <td>Mutually divorced Aman emotionally struggles t...</td>\n",
              "      <td>Drama</td>\n",
              "      <td>2021.0</td>\n",
              "      <td>U/A 13+</td>\n",
              "      <td>17.0</td>\n",
              "      <td>NaN</td>\n",
              "      <td>NaN</td>\n",
              "      <td>movie</td>\n",
              "    </tr>\n",
              "    <tr>\n",
              "      <th>1260015636</th>\n",
              "      <td>Jesus: Rise To Power And Birth Of Christianity</td>\n",
              "      <td>A journey across the historic landscapes of th...</td>\n",
              "      <td>Documentary</td>\n",
              "      <td>2019.0</td>\n",
              "      <td>U/A 13+</td>\n",
              "      <td>42.0</td>\n",
              "      <td>NaN</td>\n",
              "      <td>NaN</td>\n",
              "      <td>movie</td>\n",
              "    </tr>\n",
              "    <tr>\n",
              "      <th>1000070418</th>\n",
              "      <td>Yama Muduru</td>\n",
              "      <td>Krishna Kumar is popular in college for his mu...</td>\n",
              "      <td>Drama</td>\n",
              "      <td>2009.0</td>\n",
              "      <td>U/A 13+</td>\n",
              "      <td>129.0</td>\n",
              "      <td>NaN</td>\n",
              "      <td>NaN</td>\n",
              "      <td>movie</td>\n",
              "    </tr>\n",
              "    <tr>\n",
              "      <th>1770000804</th>\n",
              "      <td>X-Men: The Last Stand</td>\n",
              "      <td>When humans find a cure for mutation, Professo...</td>\n",
              "      <td>Superhero</td>\n",
              "      <td>2006.0</td>\n",
              "      <td>U/A 13+</td>\n",
              "      <td>103.0</td>\n",
              "      <td>NaN</td>\n",
              "      <td>NaN</td>\n",
              "      <td>movie</td>\n",
              "    </tr>\n",
              "    <tr>\n",
              "      <th>1770005017</th>\n",
              "      <td>Mangalyaan: India's Mission To Mars</td>\n",
              "      <td>In this special, watch the 650 million km jour...</td>\n",
              "      <td>Documentary</td>\n",
              "      <td>2017.0</td>\n",
              "      <td>U</td>\n",
              "      <td>44.0</td>\n",
              "      <td>NaN</td>\n",
              "      <td>NaN</td>\n",
              "      <td>movie</td>\n",
              "    </tr>\n",
              "  </tbody>\n",
              "</table>\n",
              "</div>\n",
              "      <button class=\"colab-df-convert\" onclick=\"convertToInteractive('df-f6f64843-ef7f-4b8e-bf76-78ab1fa7cda0')\"\n",
              "              title=\"Convert this dataframe to an interactive table.\"\n",
              "              style=\"display:none;\">\n",
              "        \n",
              "  <svg xmlns=\"http://www.w3.org/2000/svg\" height=\"24px\"viewBox=\"0 0 24 24\"\n",
              "       width=\"24px\">\n",
              "    <path d=\"M0 0h24v24H0V0z\" fill=\"none\"/>\n",
              "    <path d=\"M18.56 5.44l.94 2.06.94-2.06 2.06-.94-2.06-.94-.94-2.06-.94 2.06-2.06.94zm-11 1L8.5 8.5l.94-2.06 2.06-.94-2.06-.94L8.5 2.5l-.94 2.06-2.06.94zm10 10l.94 2.06.94-2.06 2.06-.94-2.06-.94-.94-2.06-.94 2.06-2.06.94z\"/><path d=\"M17.41 7.96l-1.37-1.37c-.4-.4-.92-.59-1.43-.59-.52 0-1.04.2-1.43.59L10.3 9.45l-7.72 7.72c-.78.78-.78 2.05 0 2.83L4 21.41c.39.39.9.59 1.41.59.51 0 1.02-.2 1.41-.59l7.78-7.78 2.81-2.81c.8-.78.8-2.07 0-2.86zM5.41 20L4 18.59l7.72-7.72 1.47 1.35L5.41 20z\"/>\n",
              "  </svg>\n",
              "      </button>\n",
              "      \n",
              "  <style>\n",
              "    .colab-df-container {\n",
              "      display:flex;\n",
              "      flex-wrap:wrap;\n",
              "      gap: 12px;\n",
              "    }\n",
              "\n",
              "    .colab-df-convert {\n",
              "      background-color: #E8F0FE;\n",
              "      border: none;\n",
              "      border-radius: 50%;\n",
              "      cursor: pointer;\n",
              "      display: none;\n",
              "      fill: #1967D2;\n",
              "      height: 32px;\n",
              "      padding: 0 0 0 0;\n",
              "      width: 32px;\n",
              "    }\n",
              "\n",
              "    .colab-df-convert:hover {\n",
              "      background-color: #E2EBFA;\n",
              "      box-shadow: 0px 1px 2px rgba(60, 64, 67, 0.3), 0px 1px 3px 1px rgba(60, 64, 67, 0.15);\n",
              "      fill: #174EA6;\n",
              "    }\n",
              "\n",
              "    [theme=dark] .colab-df-convert {\n",
              "      background-color: #3B4455;\n",
              "      fill: #D2E3FC;\n",
              "    }\n",
              "\n",
              "    [theme=dark] .colab-df-convert:hover {\n",
              "      background-color: #434B5C;\n",
              "      box-shadow: 0px 1px 3px 1px rgba(0, 0, 0, 0.15);\n",
              "      filter: drop-shadow(0px 1px 2px rgba(0, 0, 0, 0.3));\n",
              "      fill: #FFFFFF;\n",
              "    }\n",
              "  </style>\n",
              "\n",
              "      <script>\n",
              "        const buttonEl =\n",
              "          document.querySelector('#df-f6f64843-ef7f-4b8e-bf76-78ab1fa7cda0 button.colab-df-convert');\n",
              "        buttonEl.style.display =\n",
              "          google.colab.kernel.accessAllowed ? 'block' : 'none';\n",
              "\n",
              "        async function convertToInteractive(key) {\n",
              "          const element = document.querySelector('#df-f6f64843-ef7f-4b8e-bf76-78ab1fa7cda0');\n",
              "          const dataTable =\n",
              "            await google.colab.kernel.invokeFunction('convertToInteractive',\n",
              "                                                     [key], {});\n",
              "          if (!dataTable) return;\n",
              "\n",
              "          const docLinkHtml = 'Like what you see? Visit the ' +\n",
              "            '<a target=\"_blank\" href=https://colab.research.google.com/notebooks/data_table.ipynb>data table notebook</a>'\n",
              "            + ' to learn more about interactive tables.';\n",
              "          element.innerHTML = '';\n",
              "          dataTable['output_type'] = 'display_data';\n",
              "          await google.colab.output.renderOutput(dataTable, element);\n",
              "          const docLink = document.createElement('div');\n",
              "          docLink.innerHTML = docLinkHtml;\n",
              "          element.appendChild(docLink);\n",
              "        }\n",
              "      </script>\n",
              "    </div>\n",
              "  </div>\n",
              "  "
            ]
          },
          "metadata": {},
          "execution_count": 8
        }
      ]
    },
    {
      "cell_type": "markdown",
      "source": [
        "Analyzing rows and cols, datstypes and numerical datasets"
      ],
      "metadata": {
        "id": "IxBiYdNRaH7a"
      }
    },
    {
      "cell_type": "code",
      "source": [
        "df.shape"
      ],
      "metadata": {
        "colab": {
          "base_uri": "https://localhost:8080/"
        },
        "id": "rB4cmu82ZJSI",
        "outputId": "61287f12-1779-4af6-9dbb-14a984e86cc8"
      },
      "execution_count": 9,
      "outputs": [
        {
          "output_type": "execute_result",
          "data": {
            "text/plain": [
              "(7756, 9)"
            ]
          },
          "metadata": {},
          "execution_count": 9
        }
      ]
    },
    {
      "cell_type": "code",
      "source": [
        "df.describe()"
      ],
      "metadata": {
        "colab": {
          "base_uri": "https://localhost:8080/",
          "height": 300
        },
        "id": "1eQTTWQfZNPH",
        "outputId": "f47b0932-de99-4f63-a0d1-3d1d4ecdd22c"
      },
      "execution_count": 10,
      "outputs": [
        {
          "output_type": "execute_result",
          "data": {
            "text/plain": [
              "              year  running_time      seasons     episodes\n",
              "count  7755.000000   4188.000000  3567.000000  3567.000000\n",
              "mean   2012.044874    104.016476     2.741519   126.984020\n",
              "std      11.329055     45.989765     5.031078   259.112352\n",
              "min    1928.000000      1.000000     1.000000     1.000000\n",
              "25%    2009.000000     87.000000     1.000000     6.000000\n",
              "50%    2016.000000    119.000000     1.000000    23.000000\n",
              "75%    2019.000000    136.000000     2.000000   132.000000\n",
              "max    2022.000000    199.000000    73.000000  3792.000000"
            ],
            "text/html": [
              "\n",
              "  <div id=\"df-f668bf95-d0e8-4857-8045-162c03929062\">\n",
              "    <div class=\"colab-df-container\">\n",
              "      <div>\n",
              "<style scoped>\n",
              "    .dataframe tbody tr th:only-of-type {\n",
              "        vertical-align: middle;\n",
              "    }\n",
              "\n",
              "    .dataframe tbody tr th {\n",
              "        vertical-align: top;\n",
              "    }\n",
              "\n",
              "    .dataframe thead th {\n",
              "        text-align: right;\n",
              "    }\n",
              "</style>\n",
              "<table border=\"1\" class=\"dataframe\">\n",
              "  <thead>\n",
              "    <tr style=\"text-align: right;\">\n",
              "      <th></th>\n",
              "      <th>year</th>\n",
              "      <th>running_time</th>\n",
              "      <th>seasons</th>\n",
              "      <th>episodes</th>\n",
              "    </tr>\n",
              "  </thead>\n",
              "  <tbody>\n",
              "    <tr>\n",
              "      <th>count</th>\n",
              "      <td>7755.000000</td>\n",
              "      <td>4188.000000</td>\n",
              "      <td>3567.000000</td>\n",
              "      <td>3567.000000</td>\n",
              "    </tr>\n",
              "    <tr>\n",
              "      <th>mean</th>\n",
              "      <td>2012.044874</td>\n",
              "      <td>104.016476</td>\n",
              "      <td>2.741519</td>\n",
              "      <td>126.984020</td>\n",
              "    </tr>\n",
              "    <tr>\n",
              "      <th>std</th>\n",
              "      <td>11.329055</td>\n",
              "      <td>45.989765</td>\n",
              "      <td>5.031078</td>\n",
              "      <td>259.112352</td>\n",
              "    </tr>\n",
              "    <tr>\n",
              "      <th>min</th>\n",
              "      <td>1928.000000</td>\n",
              "      <td>1.000000</td>\n",
              "      <td>1.000000</td>\n",
              "      <td>1.000000</td>\n",
              "    </tr>\n",
              "    <tr>\n",
              "      <th>25%</th>\n",
              "      <td>2009.000000</td>\n",
              "      <td>87.000000</td>\n",
              "      <td>1.000000</td>\n",
              "      <td>6.000000</td>\n",
              "    </tr>\n",
              "    <tr>\n",
              "      <th>50%</th>\n",
              "      <td>2016.000000</td>\n",
              "      <td>119.000000</td>\n",
              "      <td>1.000000</td>\n",
              "      <td>23.000000</td>\n",
              "    </tr>\n",
              "    <tr>\n",
              "      <th>75%</th>\n",
              "      <td>2019.000000</td>\n",
              "      <td>136.000000</td>\n",
              "      <td>2.000000</td>\n",
              "      <td>132.000000</td>\n",
              "    </tr>\n",
              "    <tr>\n",
              "      <th>max</th>\n",
              "      <td>2022.000000</td>\n",
              "      <td>199.000000</td>\n",
              "      <td>73.000000</td>\n",
              "      <td>3792.000000</td>\n",
              "    </tr>\n",
              "  </tbody>\n",
              "</table>\n",
              "</div>\n",
              "      <button class=\"colab-df-convert\" onclick=\"convertToInteractive('df-f668bf95-d0e8-4857-8045-162c03929062')\"\n",
              "              title=\"Convert this dataframe to an interactive table.\"\n",
              "              style=\"display:none;\">\n",
              "        \n",
              "  <svg xmlns=\"http://www.w3.org/2000/svg\" height=\"24px\"viewBox=\"0 0 24 24\"\n",
              "       width=\"24px\">\n",
              "    <path d=\"M0 0h24v24H0V0z\" fill=\"none\"/>\n",
              "    <path d=\"M18.56 5.44l.94 2.06.94-2.06 2.06-.94-2.06-.94-.94-2.06-.94 2.06-2.06.94zm-11 1L8.5 8.5l.94-2.06 2.06-.94-2.06-.94L8.5 2.5l-.94 2.06-2.06.94zm10 10l.94 2.06.94-2.06 2.06-.94-2.06-.94-.94-2.06-.94 2.06-2.06.94z\"/><path d=\"M17.41 7.96l-1.37-1.37c-.4-.4-.92-.59-1.43-.59-.52 0-1.04.2-1.43.59L10.3 9.45l-7.72 7.72c-.78.78-.78 2.05 0 2.83L4 21.41c.39.39.9.59 1.41.59.51 0 1.02-.2 1.41-.59l7.78-7.78 2.81-2.81c.8-.78.8-2.07 0-2.86zM5.41 20L4 18.59l7.72-7.72 1.47 1.35L5.41 20z\"/>\n",
              "  </svg>\n",
              "      </button>\n",
              "      \n",
              "  <style>\n",
              "    .colab-df-container {\n",
              "      display:flex;\n",
              "      flex-wrap:wrap;\n",
              "      gap: 12px;\n",
              "    }\n",
              "\n",
              "    .colab-df-convert {\n",
              "      background-color: #E8F0FE;\n",
              "      border: none;\n",
              "      border-radius: 50%;\n",
              "      cursor: pointer;\n",
              "      display: none;\n",
              "      fill: #1967D2;\n",
              "      height: 32px;\n",
              "      padding: 0 0 0 0;\n",
              "      width: 32px;\n",
              "    }\n",
              "\n",
              "    .colab-df-convert:hover {\n",
              "      background-color: #E2EBFA;\n",
              "      box-shadow: 0px 1px 2px rgba(60, 64, 67, 0.3), 0px 1px 3px 1px rgba(60, 64, 67, 0.15);\n",
              "      fill: #174EA6;\n",
              "    }\n",
              "\n",
              "    [theme=dark] .colab-df-convert {\n",
              "      background-color: #3B4455;\n",
              "      fill: #D2E3FC;\n",
              "    }\n",
              "\n",
              "    [theme=dark] .colab-df-convert:hover {\n",
              "      background-color: #434B5C;\n",
              "      box-shadow: 0px 1px 3px 1px rgba(0, 0, 0, 0.15);\n",
              "      filter: drop-shadow(0px 1px 2px rgba(0, 0, 0, 0.3));\n",
              "      fill: #FFFFFF;\n",
              "    }\n",
              "  </style>\n",
              "\n",
              "      <script>\n",
              "        const buttonEl =\n",
              "          document.querySelector('#df-f668bf95-d0e8-4857-8045-162c03929062 button.colab-df-convert');\n",
              "        buttonEl.style.display =\n",
              "          google.colab.kernel.accessAllowed ? 'block' : 'none';\n",
              "\n",
              "        async function convertToInteractive(key) {\n",
              "          const element = document.querySelector('#df-f668bf95-d0e8-4857-8045-162c03929062');\n",
              "          const dataTable =\n",
              "            await google.colab.kernel.invokeFunction('convertToInteractive',\n",
              "                                                     [key], {});\n",
              "          if (!dataTable) return;\n",
              "\n",
              "          const docLinkHtml = 'Like what you see? Visit the ' +\n",
              "            '<a target=\"_blank\" href=https://colab.research.google.com/notebooks/data_table.ipynb>data table notebook</a>'\n",
              "            + ' to learn more about interactive tables.';\n",
              "          element.innerHTML = '';\n",
              "          dataTable['output_type'] = 'display_data';\n",
              "          await google.colab.output.renderOutput(dataTable, element);\n",
              "          const docLink = document.createElement('div');\n",
              "          docLink.innerHTML = docLinkHtml;\n",
              "          element.appendChild(docLink);\n",
              "        }\n",
              "      </script>\n",
              "    </div>\n",
              "  </div>\n",
              "  "
            ]
          },
          "metadata": {},
          "execution_count": 10
        }
      ]
    },
    {
      "cell_type": "markdown",
      "source": [
        "No of null values present in each coloumn"
      ],
      "metadata": {
        "id": "noyCpKdya08B"
      }
    },
    {
      "cell_type": "code",
      "source": [
        "df.isnull().sum()"
      ],
      "metadata": {
        "colab": {
          "base_uri": "https://localhost:8080/"
        },
        "id": "DOxrn9wEZQlJ",
        "outputId": "bb80fc9a-7161-4d13-b947-686b6fd0dd15"
      },
      "execution_count": 11,
      "outputs": [
        {
          "output_type": "execute_result",
          "data": {
            "text/plain": [
              "title              0\n",
              "description        1\n",
              "genre              1\n",
              "year               1\n",
              "age_rating         1\n",
              "running_time    3568\n",
              "seasons         4189\n",
              "episodes        4189\n",
              "type               1\n",
              "dtype: int64"
            ]
          },
          "metadata": {},
          "execution_count": 11
        }
      ]
    },
    {
      "cell_type": "code",
      "source": [
        "sns.heatmap(df.isnull(),cbar=True)"
      ],
      "metadata": {
        "id": "IQ_i47mja8v2",
        "outputId": "bd82a612-6ec2-4d74-a8d3-b7cf1a0e95fb",
        "colab": {
          "base_uri": "https://localhost:8080/",
          "height": 344
        }
      },
      "execution_count": 13,
      "outputs": [
        {
          "output_type": "execute_result",
          "data": {
            "text/plain": [
              "<matplotlib.axes._subplots.AxesSubplot at 0x7f7334f3dd90>"
            ]
          },
          "metadata": {},
          "execution_count": 13
        },
        {
          "output_type": "display_data",
          "data": {
            "text/plain": [
              "<Figure size 432x288 with 2 Axes>"
            ],
            "image/png": "[encoded data removed]"
          },
          "metadata": {
            "needs_background": "light"
          }
        }
      ]
    },
    {
      "cell_type": "markdown",
      "source": [
        "As length of the shows can be estimated by running_time column, seasons and episodes columns can be droped."
      ],
      "metadata": {
        "id": "56WQWurqbaXB"
      }
    },
    {
      "cell_type": "code",
      "source": [
        "df.drop(columns=['seasons','episodes'],inplace=True)"
      ],
      "metadata": {
        "id": "A0hL97s0bNVY"
      },
      "execution_count": 16,
      "outputs": []
    },
    {
      "cell_type": "code",
      "source": [
        "df.head(5)"
      ],
      "metadata": {
        "id": "9_-edggDbnCS",
        "outputId": "1ab27fe3-4d4a-48bb-9440-bc11a2f10ec8",
        "colab": {
          "base_uri": "https://localhost:8080/",
          "height": 368
        }
      },
      "execution_count": 17,
      "outputs": [
        {
          "output_type": "execute_result",
          "data": {
            "text/plain": [
              "                                                     title  \\\n",
              "hotstar_id                                                   \n",
              "1835064133                                        The Ring   \n",
              "1260015636  Jesus: Rise To Power And Birth Of Christianity   \n",
              "1000070418                                     Yama Muduru   \n",
              "1770000804                           X-Men: The Last Stand   \n",
              "1770005017             Mangalyaan: India's Mission To Mars   \n",
              "\n",
              "                                                  description        genre  \\\n",
              "hotstar_id                                                                   \n",
              "1835064133  Mutually divorced Aman emotionally struggles t...        Drama   \n",
              "1260015636  A journey across the historic landscapes of th...  Documentary   \n",
              "1000070418  Krishna Kumar is popular in college for his mu...        Drama   \n",
              "1770000804  When humans find a cure for mutation, Professo...    Superhero   \n",
              "1770005017  In this special, watch the 650 million km jour...  Documentary   \n",
              "\n",
              "              year age_rating  running_time   type  \n",
              "hotstar_id                                          \n",
              "1835064133  2021.0    U/A 13+          17.0  movie  \n",
              "1260015636  2019.0    U/A 13+          42.0  movie  \n",
              "1000070418  2009.0    U/A 13+         129.0  movie  \n",
              "1770000804  2006.0    U/A 13+         103.0  movie  \n",
              "1770005017  2017.0          U          44.0  movie  "
            ],
            "text/html": [
              "\n",
              "  <div id=\"df-8c2d5faa-1e92-4ab8-a355-865e638b0bcf\">\n",
              "    <div class=\"colab-df-container\">\n",
              "      <div>\n",
              "<style scoped>\n",
              "    .dataframe tbody tr th:only-of-type {\n",
              "        vertical-align: middle;\n",
              "    }\n",
              "\n",
              "    .dataframe tbody tr th {\n",
              "        vertical-align: top;\n",
              "    }\n",
              "\n",
              "    .dataframe thead th {\n",
              "        text-align: right;\n",
              "    }\n",
              "</style>\n",
              "<table border=\"1\" class=\"dataframe\">\n",
              "  <thead>\n",
              "    <tr style=\"text-align: right;\">\n",
              "      <th></th>\n",
              "      <th>title</th>\n",
              "      <th>description</th>\n",
              "      <th>genre</th>\n",
              "      <th>year</th>\n",
              "      <th>age_rating</th>\n",
              "      <th>running_time</th>\n",
              "      <th>type</th>\n",
              "    </tr>\n",
              "    <tr>\n",
              "      <th>hotstar_id</th>\n",
              "      <th></th>\n",
              "      <th></th>\n",
              "      <th></th>\n",
              "      <th></th>\n",
              "      <th></th>\n",
              "      <th></th>\n",
              "      <th></th>\n",
              "    </tr>\n",
              "  </thead>\n",
              "  <tbody>\n",
              "    <tr>\n",
              "      <th>1835064133</th>\n",
              "      <td>The Ring</td>\n",
              "      <td>Mutually divorced Aman emotionally struggles t...</td>\n",
              "      <td>Drama</td>\n",
              "      <td>2021.0</td>\n",
              "      <td>U/A 13+</td>\n",
              "      <td>17.0</td>\n",
              "      <td>movie</td>\n",
              "    </tr>\n",
              "    <tr>\n",
              "      <th>1260015636</th>\n",
              "      <td>Jesus: Rise To Power And Birth Of Christianity</td>\n",
              "      <td>A journey across the historic landscapes of th...</td>\n",
              "      <td>Documentary</td>\n",
              "      <td>2019.0</td>\n",
              "      <td>U/A 13+</td>\n",
              "      <td>42.0</td>\n",
              "      <td>movie</td>\n",
              "    </tr>\n",
              "    <tr>\n",
              "      <th>1000070418</th>\n",
              "      <td>Yama Muduru</td>\n",
              "      <td>Krishna Kumar is popular in college for his mu...</td>\n",
              "      <td>Drama</td>\n",
              "      <td>2009.0</td>\n",
              "      <td>U/A 13+</td>\n",
              "      <td>129.0</td>\n",
              "      <td>movie</td>\n",
              "    </tr>\n",
              "    <tr>\n",
              "      <th>1770000804</th>\n",
              "      <td>X-Men: The Last Stand</td>\n",
              "      <td>When humans find a cure for mutation, Professo...</td>\n",
              "      <td>Superhero</td>\n",
              "      <td>2006.0</td>\n",
              "      <td>U/A 13+</td>\n",
              "      <td>103.0</td>\n",
              "      <td>movie</td>\n",
              "    </tr>\n",
              "    <tr>\n",
              "      <th>1770005017</th>\n",
              "      <td>Mangalyaan: India's Mission To Mars</td>\n",
              "      <td>In this special, watch the 650 million km jour...</td>\n",
              "      <td>Documentary</td>\n",
              "      <td>2017.0</td>\n",
              "      <td>U</td>\n",
              "      <td>44.0</td>\n",
              "      <td>movie</td>\n",
              "    </tr>\n",
              "  </tbody>\n",
              "</table>\n",
              "</div>\n",
              "      <button class=\"colab-df-convert\" onclick=\"convertToInteractive('df-8c2d5faa-1e92-4ab8-a355-865e638b0bcf')\"\n",
              "              title=\"Convert this dataframe to an interactive table.\"\n",
              "              style=\"display:none;\">\n",
              "        \n",
              "  <svg xmlns=\"http://www.w3.org/2000/svg\" height=\"24px\"viewBox=\"0 0 24 24\"\n",
              "       width=\"24px\">\n",
              "    <path d=\"M0 0h24v24H0V0z\" fill=\"none\"/>\n",
              "    <path d=\"M18.56 5.44l.94 2.06.94-2.06 2.06-.94-2.06-.94-.94-2.06-.94 2.06-2.06.94zm-11 1L8.5 8.5l.94-2.06 2.06-.94-2.06-.94L8.5 2.5l-.94 2.06-2.06.94zm10 10l.94 2.06.94-2.06 2.06-.94-2.06-.94-.94-2.06-.94 2.06-2.06.94z\"/><path d=\"M17.41 7.96l-1.37-1.37c-.4-.4-.92-.59-1.43-.59-.52 0-1.04.2-1.43.59L10.3 9.45l-7.72 7.72c-.78.78-.78 2.05 0 2.83L4 21.41c.39.39.9.59 1.41.59.51 0 1.02-.2 1.41-.59l7.78-7.78 2.81-2.81c.8-.78.8-2.07 0-2.86zM5.41 20L4 18.59l7.72-7.72 1.47 1.35L5.41 20z\"/>\n",
              "  </svg>\n",
              "      </button>\n",
              "      \n",
              "  <style>\n",
              "    .colab-df-container {\n",
              "      display:flex;\n",
              "      flex-wrap:wrap;\n",
              "      gap: 12px;\n",
              "    }\n",
              "\n",
              "    .colab-df-convert {\n",
              "      background-color: #E8F0FE;\n",
              "      border: none;\n",
              "      border-radius: 50%;\n",
              "      cursor: pointer;\n",
              "      display: none;\n",
              "      fill: #1967D2;\n",
              "      height: 32px;\n",
              "      padding: 0 0 0 0;\n",
              "      width: 32px;\n",
              "    }\n",
              "\n",
              "    .colab-df-convert:hover {\n",
              "      background-color: #E2EBFA;\n",
              "      box-shadow: 0px 1px 2px rgba(60, 64, 67, 0.3), 0px 1px 3px 1px rgba(60, 64, 67, 0.15);\n",
              "      fill: #174EA6;\n",
              "    }\n",
              "\n",
              "    [theme=dark] .colab-df-convert {\n",
              "      background-color: #3B4455;\n",
              "      fill: #D2E3FC;\n",
              "    }\n",
              "\n",
              "    [theme=dark] .colab-df-convert:hover {\n",
              "      background-color: #434B5C;\n",
              "      box-shadow: 0px 1px 3px 1px rgba(0, 0, 0, 0.15);\n",
              "      filter: drop-shadow(0px 1px 2px rgba(0, 0, 0, 0.3));\n",
              "      fill: #FFFFFF;\n",
              "    }\n",
              "  </style>\n",
              "\n",
              "      <script>\n",
              "        const buttonEl =\n",
              "          document.querySelector('#df-8c2d5faa-1e92-4ab8-a355-865e638b0bcf button.colab-df-convert');\n",
              "        buttonEl.style.display =\n",
              "          google.colab.kernel.accessAllowed ? 'block' : 'none';\n",
              "\n",
              "        async function convertToInteractive(key) {\n",
              "          const element = document.querySelector('#df-8c2d5faa-1e92-4ab8-a355-865e638b0bcf');\n",
              "          const dataTable =\n",
              "            await google.colab.kernel.invokeFunction('convertToInteractive',\n",
              "                                                     [key], {});\n",
              "          if (!dataTable) return;\n",
              "\n",
              "          const docLinkHtml = 'Like what you see? Visit the ' +\n",
              "            '<a target=\"_blank\" href=https://colab.research.google.com/notebooks/data_table.ipynb>data table notebook</a>'\n",
              "            + ' to learn more about interactive tables.';\n",
              "          element.innerHTML = '';\n",
              "          dataTable['output_type'] = 'display_data';\n",
              "          await google.colab.output.renderOutput(dataTable, element);\n",
              "          const docLink = document.createElement('div');\n",
              "          docLink.innerHTML = docLinkHtml;\n",
              "          element.appendChild(docLink);\n",
              "        }\n",
              "      </script>\n",
              "    </div>\n",
              "  </div>\n",
              "  "
            ]
          },
          "metadata": {},
          "execution_count": 17
        }
      ]
    },
    {
      "cell_type": "markdown",
      "source": [
        "Creating a dataset where running_time column is dropped"
      ],
      "metadata": {
        "id": "jJvZ3aOicskZ"
      }
    },
    {
      "cell_type": "code",
      "source": [
        "df1=df.dropna(axis=0,inplace=False,how='any')"
      ],
      "metadata": {
        "id": "I9vwnD88byEz"
      },
      "execution_count": 18,
      "outputs": []
    },
    {
      "cell_type": "code",
      "source": [
        "df1.isnull().sum()"
      ],
      "metadata": {
        "id": "kP6kPin8c2GJ",
        "outputId": "4a75f8cd-39a2-4e76-9753-7949e064047d",
        "colab": {
          "base_uri": "https://localhost:8080/"
        }
      },
      "execution_count": 19,
      "outputs": [
        {
          "output_type": "execute_result",
          "data": {
            "text/plain": [
              "title           0\n",
              "description     0\n",
              "genre           0\n",
              "year            0\n",
              "age_rating      0\n",
              "running_time    0\n",
              "type            0\n",
              "dtype: int64"
            ]
          },
          "metadata": {},
          "execution_count": 19
        }
      ]
    },
    {
      "cell_type": "code",
      "source": [
        "df.age_rating.value_counts()"
      ],
      "metadata": {
        "id": "5FeFG8Jqc6VM",
        "outputId": "4c150784-be82-4c68-90cd-191fa970ea40",
        "colab": {
          "base_uri": "https://localhost:8080/"
        }
      },
      "execution_count": 20,
      "outputs": [
        {
          "output_type": "execute_result",
          "data": {
            "text/plain": [
              "U/A 13+                  3203\n",
              "U/A 7+                   1236\n",
              "U                        1205\n",
              "U/A 16+                  1130\n",
              "PG                        422\n",
              "A                         342\n",
              "G                         129\n",
              "12+                        33\n",
              "15+                        14\n",
              "English                    10\n",
              "Kannada                     6\n",
              "Star Sports 1 Marathi       6\n",
              "Hindi                       2\n",
              "Tamil                       2\n",
              "Star Sports 2               2\n",
              "Star Vijay                  2\n",
              "Star Sports Hindi 1         2\n",
              "Star Suvarna                2\n",
              "Marathi                     2\n",
              "Star Sports 1 Telugu        2\n",
              "Telugu                      2\n",
              "Star Sports Kannada 1       1\n",
              "Name: age_rating, dtype: int64"
            ]
          },
          "metadata": {},
          "execution_count": 20
        }
      ]
    },
    {
      "cell_type": "markdown",
      "source": [
        "English, Star Sports 1 Marathi, Hindi, Tamil, Star Sports 2, Star Vijay, Star Sports Kannada 1, Star Suvarna, Marathi,Kannada, Star Sports 1 Telugu, Telugu and Star Sports Hindi 1 are not age_rating of shows. So, these instances can be dropped."
      ],
      "metadata": {
        "id": "gQj_Q6brdUlx"
      }
    },
    {
      "cell_type": "code",
      "source": [
        "dropped_age_rating=['English','Kannada','Star Sports 1 Marathi','Hindi','Tamil','Star Sports 2', 'Star Sports Hindi 1', 'Star Vijay', 'Star Suvarna', 'Marathi', 'Star Sports 1 Telugu', 'Telugu', 'Star Sports Kannada 1']"
      ],
      "metadata": {
        "id": "ZYRptWyhc_HN"
      },
      "execution_count": 21,
      "outputs": []
    },
    {
      "cell_type": "code",
      "source": [
        "df=df[df['age_rating'].isin(dropped_age_rating)==False]"
      ],
      "metadata": {
        "id": "6Zdk89DIfkFP"
      },
      "execution_count": 23,
      "outputs": []
    },
    {
      "cell_type": "code",
      "source": [
        "df.age_rating.value_counts()"
      ],
      "metadata": {
        "id": "jKC_lqCneR62",
        "outputId": "ddb0d386-211c-46cd-f209-c04cb2d2f3d8",
        "colab": {
          "base_uri": "https://localhost:8080/"
        }
      },
      "execution_count": 24,
      "outputs": [
        {
          "output_type": "execute_result",
          "data": {
            "text/plain": [
              "U/A 13+    3203\n",
              "U/A 7+     1236\n",
              "U          1205\n",
              "U/A 16+    1130\n",
              "PG          422\n",
              "A           342\n",
              "G           129\n",
              "12+          33\n",
              "15+          14\n",
              "Name: age_rating, dtype: int64"
            ]
          },
          "metadata": {},
          "execution_count": 24
        }
      ]
    },
    {
      "cell_type": "code",
      "source": [
        "df['age_rating']=df.age_rating.str.replace('U/A 13+','13')\n",
        "df['age_rating']=df.age_rating.str.replace('U/A 7+','7')\n",
        "df['age_rating']=df.age_rating.str.replace('U/A 16+','16')"
      ],
      "metadata": {
        "id": "TzK57-OmfRRl",
        "outputId": "2d575bd7-96ae-4c3f-e3a5-fe61692bb4cd",
        "colab": {
          "base_uri": "https://localhost:8080/"
        }
      },
      "execution_count": 25,
      "outputs": [
        {
          "output_type": "stream",
          "name": "stderr",
          "text": [
            "<ipython-input-25-1ff025fbba2e>:1: FutureWarning: The default value of regex will change from True to False in a future version.\n",
            "  df['age_rating']=df.age_rating.str.replace('U/A 13+','13')\n",
            "<ipython-input-25-1ff025fbba2e>:1: SettingWithCopyWarning: \n",
            "A value is trying to be set on a copy of a slice from a DataFrame.\n",
            "Try using .loc[row_indexer,col_indexer] = value instead\n",
            "\n",
            "See the caveats in the documentation: https://pandas.pydata.org/pandas-docs/stable/user_guide/indexing.html#returning-a-view-versus-a-copy\n",
            "  df['age_rating']=df.age_rating.str.replace('U/A 13+','13')\n",
            "<ipython-input-25-1ff025fbba2e>:2: FutureWarning: The default value of regex will change from True to False in a future version.\n",
            "  df['age_rating']=df.age_rating.str.replace('U/A 7+','7')\n",
            "<ipython-input-25-1ff025fbba2e>:2: SettingWithCopyWarning: \n",
            "A value is trying to be set on a copy of a slice from a DataFrame.\n",
            "Try using .loc[row_indexer,col_indexer] = value instead\n",
            "\n",
            "See the caveats in the documentation: https://pandas.pydata.org/pandas-docs/stable/user_guide/indexing.html#returning-a-view-versus-a-copy\n",
            "  df['age_rating']=df.age_rating.str.replace('U/A 7+','7')\n",
            "<ipython-input-25-1ff025fbba2e>:3: FutureWarning: The default value of regex will change from True to False in a future version.\n",
            "  df['age_rating']=df.age_rating.str.replace('U/A 16+','16')\n",
            "<ipython-input-25-1ff025fbba2e>:3: SettingWithCopyWarning: \n",
            "A value is trying to be set on a copy of a slice from a DataFrame.\n",
            "Try using .loc[row_indexer,col_indexer] = value instead\n",
            "\n",
            "See the caveats in the documentation: https://pandas.pydata.org/pandas-docs/stable/user_guide/indexing.html#returning-a-view-versus-a-copy\n",
            "  df['age_rating']=df.age_rating.str.replace('U/A 16+','16')\n"
          ]
        }
      ]
    },
    {
      "cell_type": "code",
      "source": [
        "df.age_rating.value_counts()"
      ],
      "metadata": {
        "id": "mxkVAMHIgYbE",
        "outputId": "1f06fb52-edc1-4f40-c437-c461e8311a74",
        "colab": {
          "base_uri": "https://localhost:8080/"
        }
      },
      "execution_count": 27,
      "outputs": [
        {
          "output_type": "execute_result",
          "data": {
            "text/plain": [
              "13+    3203\n",
              "7+     1236\n",
              "U      1205\n",
              "16+    1130\n",
              "PG      422\n",
              "A       342\n",
              "G       129\n",
              "12+      33\n",
              "15+      14\n",
              "Name: age_rating, dtype: int64"
            ]
          },
          "metadata": {},
          "execution_count": 27
        }
      ]
    },
    {
      "cell_type": "code",
      "source": [
        "df.genre.value_counts()"
      ],
      "metadata": {
        "id": "4WMm5elMgqL4",
        "outputId": "9eec0090-3a20-49d3-f463-35b5654ea3ec",
        "colab": {
          "base_uri": "https://localhost:8080/"
        }
      },
      "execution_count": 28,
      "outputs": [
        {
          "output_type": "execute_result",
          "data": {
            "text/plain": [
              "Drama               2096\n",
              "Comedy               922\n",
              "Romance              685\n",
              "Reality              620\n",
              "Action               617\n",
              "Sport                349\n",
              "Thriller             335\n",
              "Family               308\n",
              "Animation            225\n",
              "Documentary          211\n",
              "Animals & Nature     160\n",
              "Kids                 140\n",
              "Talk Show            135\n",
              "Crime                116\n",
              "Mythology            113\n",
              "Horror               106\n",
              "Superhero             72\n",
              "Standup Comedy        52\n",
              "Adventure             46\n",
              "Historical            46\n",
              "Teen                  46\n",
              "Biopic                45\n",
              "Lifestyle             43\n",
              "Science               42\n",
              "Awards                42\n",
              "Science Fiction       40\n",
              "Mystery               29\n",
              "Concert Film          19\n",
              "Musical               15\n",
              "Shorts                10\n",
              "Food                   9\n",
              "Docudrama              8\n",
              "Travel                 8\n",
              "Fantasy                3\n",
              "Kabaddi                1\n",
              "Name: genre, dtype: int64"
            ]
          },
          "metadata": {},
          "execution_count": 28
        }
      ]
    },
    {
      "cell_type": "code",
      "source": [
        "df.type.value_counts()"
      ],
      "metadata": {
        "id": "6bTauTjrhCFw",
        "outputId": "3e5fca3b-c7f0-4244-cce1-76adfe87c445",
        "colab": {
          "base_uri": "https://localhost:8080/"
        }
      },
      "execution_count": 29,
      "outputs": [
        {
          "output_type": "execute_result",
          "data": {
            "text/plain": [
              "movie    4188\n",
              "tv       3526\n",
              "Name: type, dtype: int64"
            ]
          },
          "metadata": {},
          "execution_count": 29
        }
      ]
    },
    {
      "cell_type": "code",
      "source": [
        "df.year.value_counts()"
      ],
      "metadata": {
        "id": "IoNd1nH8hHoi",
        "outputId": "40cc1ed6-ed6d-4a4f-c340-997689c36ec7",
        "colab": {
          "base_uri": "https://localhost:8080/"
        }
      },
      "execution_count": 30,
      "outputs": [
        {
          "output_type": "execute_result",
          "data": {
            "text/plain": [
              "2017.0    691\n",
              "2021.0    685\n",
              "2019.0    674\n",
              "2018.0    600\n",
              "2020.0    585\n",
              "         ... \n",
              "1958.0      1\n",
              "1950.0      1\n",
              "1951.0      1\n",
              "1960.0      1\n",
              "1942.0      1\n",
              "Name: year, Length: 77, dtype: int64"
            ]
          },
          "metadata": {},
          "execution_count": 30
        }
      ]
    },
    {
      "cell_type": "code",
      "source": [
        "df['year']=df['year'].astype('Int64')\n",
        "df.dtypes"
      ],
      "metadata": {
        "id": "KzJOdjYhhOpz",
        "outputId": "d8122f64-b67c-44e4-b32e-3f99ace3c3b1",
        "colab": {
          "base_uri": "https://localhost:8080/"
        }
      },
      "execution_count": 41,
      "outputs": [
        {
          "output_type": "stream",
          "name": "stderr",
          "text": [
            "<ipython-input-41-dbf9000a1103>:1: SettingWithCopyWarning: \n",
            "A value is trying to be set on a copy of a slice from a DataFrame.\n",
            "Try using .loc[row_indexer,col_indexer] = value instead\n",
            "\n",
            "See the caveats in the documentation: https://pandas.pydata.org/pandas-docs/stable/user_guide/indexing.html#returning-a-view-versus-a-copy\n",
            "  df['year']=df['year'].astype('Int64')\n"
          ]
        },
        {
          "output_type": "execute_result",
          "data": {
            "text/plain": [
              "title            object\n",
              "description      object\n",
              "genre            object\n",
              "year              Int64\n",
              "age_rating       object\n",
              "running_time    float64\n",
              "type             object\n",
              "dtype: object"
            ]
          },
          "metadata": {},
          "execution_count": 41
        }
      ]
    },
    {
      "cell_type": "code",
      "source": [
        "df['year'].head(5)"
      ],
      "metadata": {
        "id": "vdmAoT-xh8La",
        "outputId": "7b0153e5-47d6-4dc9-a8a6-9ace8d460281",
        "colab": {
          "base_uri": "https://localhost:8080/"
        }
      },
      "execution_count": 42,
      "outputs": [
        {
          "output_type": "execute_result",
          "data": {
            "text/plain": [
              "hotstar_id\n",
              "1835064133    2021\n",
              "1260015636    2019\n",
              "1000070418    2009\n",
              "1770000804    2006\n",
              "1770005017    2017\n",
              "Name: year, dtype: Int64"
            ]
          },
          "metadata": {},
          "execution_count": 42
        }
      ]
    },
    {
      "cell_type": "code",
      "source": [
        "'Movies are from year {} to {}'.format(np.min(df.year),np.max(df.year))"
      ],
      "metadata": {
        "id": "WKWQC8pojHCX",
        "outputId": "c0187050-df7d-4266-8b10-2fee92963f3d",
        "colab": {
          "base_uri": "https://localhost:8080/",
          "height": 35
        }
      },
      "execution_count": 43,
      "outputs": [
        {
          "output_type": "execute_result",
          "data": {
            "text/plain": [
              "'Movies are from year 1928 to 2022'"
            ],
            "application/vnd.google.colaboratory.intrinsic+json": {
              "type": "string"
            }
          },
          "metadata": {},
          "execution_count": 43
        }
      ]
    },
    {
      "cell_type": "code",
      "source": [],
      "metadata": {
        "id": "cKgXuSbajizj"
      },
      "execution_count": null,
      "outputs": []
    }
  ]
}